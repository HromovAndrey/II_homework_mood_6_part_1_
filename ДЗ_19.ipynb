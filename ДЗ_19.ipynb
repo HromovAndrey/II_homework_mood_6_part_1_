{
  "nbformat": 4,
  "nbformat_minor": 0,
  "metadata": {
    "colab": {
      "provenance": [],
      "include_colab_link": true
    },
    "kernelspec": {
      "name": "python3",
      "display_name": "Python 3"
    },
    "language_info": {
      "name": "python"
    }
  },
  "cells": [
    {
      "cell_type": "markdown",
      "metadata": {
        "id": "view-in-github",
        "colab_type": "text"
      },
      "source": [
        "<a href=\"https://colab.research.google.com/github/HromovAndrey/II_homework_mood_6_part_1_/blob/main/%D0%94%D0%97_19.ipynb\" target=\"_parent\"><img src=\"https://colab.research.google.com/assets/colab-badge.svg\" alt=\"Open In Colab\"/></a>"
      ]
    },
    {
      "cell_type": "markdown",
      "source": [
        "# Завдання 1\n",
        "Напишіть функцію, яка повертає список фраз з тексту, які відповідають певному шоблону. При необхідності можете добавити власні параметри.\n",
        "\n",
        "Протестуйте функцію на якомусь тексті."
      ],
      "metadata": {
        "id": "D56Rwjf4EXC_"
      }
    },
    {
      "cell_type": "code",
      "source": [
        "\n",
        "import nltk\n",
        "nltk.download('punkt')\n",
        "nltk.download('averaged_perceptron_tagger')\n",
        "\n",
        "import re\n",
        "from nltk import word_tokenize, pos_tag, RegexpParser\n",
        "\n",
        "def get_phrases(text, regex, tag_name):\n",
        "    \"\"\"\n",
        "    Возвращает список фраз из текста, которые соответствуют заданному шаблону.\n",
        "\n",
        "    Params:\n",
        "        text: str - исходный текст\n",
        "        regex: str - регулярное выражение\n",
        "        tag_name: str - имя тега, используемого в nltk дереве\n",
        "\n",
        "    Return:\n",
        "        phrases: list[str] - список фраз\n",
        "    \"\"\"\n",
        "\n",
        "\n",
        "    words = word_tokenize(text)\n",
        "\n",
        "\n",
        "    tagged_words = pos_tag(words)\n",
        "\n",
        "\n",
        "    chunker = RegexpParser(f\"{tag_name}: {{<{regex}>}}\")\n",
        "\n",
        "\n",
        "    tree = chunker.parse(tagged_words)\n",
        "\n",
        "    phrases = []\n",
        "    for subtree in tree.subtrees(filter=lambda t: t.label() == tag_name):\n",
        "        phrase = \" \".join(word for word, pos in subtree.leaves())\n",
        "        phrases.append(phrase)\n",
        "\n",
        "    return phrases\n",
        "\n",
        "text = \"The quick brown fox jumps over the lazy dog. The dog barked loudly.\"\n",
        "regex = r\"NN\"\n",
        "tag_name = \"NP\"\n",
        "\n",
        "phrases = get_phrases(text, regex, tag_name)\n",
        "print(phrases)\n",
        "\n",
        "\n"
      ],
      "metadata": {
        "id": "-ELGCy5Wy_pv",
        "outputId": "4c17749f-f5c2-4d93-9ef2-365e68d4f434",
        "colab": {
          "base_uri": "https://localhost:8080/"
        }
      },
      "execution_count": 49,
      "outputs": [
        {
          "output_type": "stream",
          "name": "stdout",
          "text": [
            "['brown', 'fox', 'dog', 'dog']\n"
          ]
        },
        {
          "output_type": "stream",
          "name": "stderr",
          "text": [
            "[nltk_data] Downloading package punkt to /root/nltk_data...\n",
            "[nltk_data]   Package punkt is already up-to-date!\n",
            "[nltk_data] Downloading package averaged_perceptron_tagger to\n",
            "[nltk_data]     /root/nltk_data...\n",
            "[nltk_data]   Package averaged_perceptron_tagger is already up-to-\n",
            "[nltk_data]       date!\n"
          ]
        }
      ]
    }
  ]
}