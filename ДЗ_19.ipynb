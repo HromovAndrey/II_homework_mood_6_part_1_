{
  "nbformat": 4,
  "nbformat_minor": 0,
  "metadata": {
    "colab": {
      "provenance": [],
      "include_colab_link": true
    },
    "kernelspec": {
      "name": "python3",
      "display_name": "Python 3"
    },
    "language_info": {
      "name": "python"
    }
  },
  "cells": [
    {
      "cell_type": "markdown",
      "metadata": {
        "id": "view-in-github",
        "colab_type": "text"
      },
      "source": [
        "<a href=\"https://colab.research.google.com/github/HromovAndrey/II_homework_mood_6_part_1_/blob/main/%D0%94%D0%97_19.ipynb\" target=\"_parent\"><img src=\"https://colab.research.google.com/assets/colab-badge.svg\" alt=\"Open In Colab\"/></a>"
      ]
    },
    {
      "cell_type": "markdown",
      "source": [
        "# Завдання 1\n",
        "Напишіть функцію, яка повертає список фраз з тексту, які відповідають певному шоблону. При необхідності можете добавити власні параметри.\n",
        "\n",
        "Протестуйте функцію на якомусь тексті."
      ],
      "metadata": {
        "id": "D56Rwjf4EXC_"
      }
    },
    {
      "cell_type": "code",
      "source": [
        "import nltk\n",
        "nltk.download('punkt')  # Download Punkt tokenizer (already done)\n",
        "nltk.download('averaged_perceptron_tagger')  # Download Averaged Perceptron Tagger\n",
        "\n",
        "import re\n",
        "from nltk import word_tokenize, pos_tag, RegexpParser"
      ],
      "metadata": {
        "id": "veNnsl6xxEGi",
        "outputId": "06d8ad3a-1408-4153-b3e7-8910a9a12f5f",
        "colab": {
          "base_uri": "https://localhost:8080/"
        }
      },
      "execution_count": 36,
      "outputs": [
        {
          "output_type": "stream",
          "name": "stderr",
          "text": [
            "[nltk_data] Downloading package punkt to /root/nltk_data...\n",
            "[nltk_data]   Package punkt is already up-to-date!\n",
            "[nltk_data] Downloading package averaged_perceptron_tagger to\n",
            "[nltk_data]     /root/nltk_data...\n",
            "[nltk_data]   Package averaged_perceptron_tagger is already up-to-\n",
            "[nltk_data]       date!\n"
          ]
        }
      ]
    },
    {
      "cell_type": "code",
      "source": [
        "def get_phrases(text, regex, tag_name):\n",
        "  \"\"\"\n",
        "  Reurn list of phrases from text that matches regex\n",
        "\n",
        "  Params:\n",
        "    text: str - original text\n",
        "    regex: str - regular expression\n",
        "    tag_name: str - tag name that is used in nltk tree\n",
        "\n",
        "  Return:\n",
        "    phrases: list[str] - list of phrases\n",
        "  \"\"\""
      ],
      "metadata": {
        "id": "G4Stff_zFQjv"
      },
      "execution_count": 37,
      "outputs": []
    },
    {
      "cell_type": "code",
      "source": [
        "words = word_tokenize(text)\n",
        "tagged_words = pos_tag(words)"
      ],
      "metadata": {
        "id": "bVnlpU-AxJWd"
      },
      "execution_count": 38,
      "outputs": []
    },
    {
      "cell_type": "code",
      "source": [
        "chunker = RegexpParser(f\"{tag_name}: {{<.*>{regex}<.*>}}\")\n",
        "tree = chunker.parse(tagged_words)"
      ],
      "metadata": {
        "id": "Ic985b2hxOpE"
      },
      "execution_count": 39,
      "outputs": []
    },
    {
      "cell_type": "code",
      "source": [
        "phrases = []\n",
        "for subtree in tree.subtrees(filter=lambda t: t.label() == tag_name):\n",
        "    phrase = \" \".join(word for word, pos in subtree.leaves())\n",
        "    phrases.append(phrase)\n",
        "return phrases"
      ],
      "metadata": {
        "id": "7QYtoHtgxUpK",
        "outputId": "ec9a410d-d013-4735-eab9-a958f217b242",
        "colab": {
          "base_uri": "https://localhost:8080/",
          "height": 106
        }
      },
      "execution_count": 41,
      "outputs": [
        {
          "output_type": "error",
          "ename": "SyntaxError",
          "evalue": "'return' outside function (<ipython-input-41-594de2083316>, line 5)",
          "traceback": [
            "\u001b[0;36m  File \u001b[0;32m\"<ipython-input-41-594de2083316>\"\u001b[0;36m, line \u001b[0;32m5\u001b[0m\n\u001b[0;31m    return phrases\u001b[0m\n\u001b[0m    ^\u001b[0m\n\u001b[0;31mSyntaxError\u001b[0m\u001b[0;31m:\u001b[0m 'return' outside function\n"
          ]
        }
      ]
    },
    {
      "cell_type": "code",
      "source": [
        "text = \"The quick brown fox jumps over the lazy dog. The dog barked loudly.\"\n",
        "regex = r\"NN\"\n",
        "tag_name = \"NP\"\n",
        "\n",
        "phrases = get_phrases(text, regex, tag_name)\n",
        "print(phrases)"
      ],
      "metadata": {
        "id": "_NH4yk1sxdcC"
      },
      "execution_count": null,
      "outputs": []
    }
  ]
}